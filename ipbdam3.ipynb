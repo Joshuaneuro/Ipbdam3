{
 "cells": [
  {
   "cell_type": "markdown",
   "metadata": {},
   "source": [
    "# Groep 4\n",
    "# Zonne energie\n",
    "## Exploratie data/opschonen"
   ]
  },
  {
   "cell_type": "code",
   "execution_count": 1,
   "metadata": {
    "pycharm": {
     "name": "#%%\n"
    }
   },
   "outputs": [],
   "source": [
    "import snowflake.connector\n",
    "import seaborn as sns\n",
    "from seaborn import distplot\n",
    "import matplotlib.pyplot as plt\n",
    "from matplotlib.pyplot import plot, draw, show\n",
    "import numpy as np \n",
    "import pandas as pd\n",
    "from pandas_profiling import ProfileReport\n",
    "from pandas.plotting import scatter_matrix\n",
    "%matplotlib inline"
   ]
  },
  {
   "cell_type": "code",
   "execution_count": 2,
   "metadata": {
    "pycharm": {
     "name": "#%%\n"
    }
   },
   "outputs": [
    {
     "data": {
      "text/plain": [
       "<snowflake.connector.cursor.SnowflakeCursor at 0x2272712d880>"
      ]
     },
     "execution_count": 2,
     "metadata": {},
     "output_type": "execute_result"
    }
   ],
   "source": [
    "ctx = snowflake.connector.connect(\n",
    "    user='Karan',\n",
    "password='Test1234!',\n",
    "account='ty73594.west-europe.azure')\n",
    "cs = ctx.cursor()\n",
    "\n",
    "ctx.cursor().execute(\"use role sysadmin\")\n",
    "ctx.cursor().execute(\"use warehouse COMPUTE_WH\")\n",
    "ctx.cursor().execute(\"use database NORTHPOOL\")\n",
    "ctx.cursor().execute(\"use schema ASSIGNMENTB\")"
   ]
  },
  {
   "cell_type": "markdown",
   "metadata": {},
   "source": [
    "#### production_solar tabel in een dataframe stoppen"
   ]
  },
  {
   "cell_type": "code",
   "execution_count": 3,
   "metadata": {
    "pycharm": {
     "name": "#%%\n"
    }
   },
   "outputs": [],
   "source": [
    "try:\n",
    "    sql = 'SELECT * FROM \"production_solar\";'\n",
    "    cs.execute(sql)\n",
    "    df = cs.fetch_pandas_all()\n",
    "finally:\n",
    "    cs.close()\n",
    "ctx.close()"
   ]
  },
  {
   "cell_type": "markdown",
   "metadata": {},
   "source": [
    "#### Data dictionary "
   ]
  },
  {
   "cell_type": "markdown",
   "metadata": {},
   "source": [
    "Variabele |Type |Meetniveau |Omschrijving |Numeriek of Categorisch\n",
    ":---:|:---:|:---:|:---:|:---:\n",
    "datetime_start_utc|TIMESTAMP|Interval|Start tijdsblok in UTC|nvt\n",
    "datetime_end_utc|TIMESTAMP|Interval|Eind tijdsblok in UTC|nvt\n",
    "datetime_start_nl|TIMESTAMP|Interval|Start tijdsblok in NL tijd|nvt\n",
    "datetime_end_nl|TIMESTAMP|Interval|Eind tijdsblok in NL tijd|nvt\n",
    "datetime_start_ntz|TIMESTAMP|Interval|Start tijdsblok zonder tijdzone|nvt\n",
    "provider|STRING|Nominaal|Leverancier van de data|Categorisch\n",
    "area_codev|STRING|Nominaal|Het specifieke gebied waar de productie in geleverd wordt/is|nvt\n",
    "area_type|STRING|Nominaal|Tpe gebied|Categorisch\n",
    "interval|STRING|Interval|Tijdsblok in minuten (ofwel datetime_end_utc - datetime_start_utc)|Categorisch\n",
    "energy_source|STRING|Nominaal|Manier van energieopwekking|Categorisch\n",
    "phase|STRING|Nominaal|Forect of Actual data|Categorisch\n",
    "production_mw|FLOAT|Ratio|Productie in MW (voorspeld of geleverd)|Numeriek\n",
    "datetime_modification_utc|TIMESTAMP|Interval|Tijdstip waarop de data provider de data beschikbaar heeft gesteld (mist bekend) in UTC|nvt\n",
    "datetime_fetch|TIMESTAMP|Interval|Tijdstip waarop Northpool de data opgehaald heeft van de data provider in UTC|nvt\n",
    "datetime_load_snowflake|TIMESTAMP|Interval|Tijstip dat de data voor het eerst in Snowflake is beland|nvt\n",
    "datetime_load_businessvault|TIMESTAMP|Interval|Tijdstip dat de data in de business vault tabel is beland|nvt\n",
    "datetime_load_reporting|TIMESTAMP|Interval|Tijdstip dat de data in de reporting tabel is beland (deze tabel)|nvt"
   ]
  },
  {
   "cell_type": "markdown",
   "metadata": {},
   "source": [
    "#### Profiel report van de production_solar tabel"
   ]
  },
  {
   "cell_type": "code",
   "execution_count": 4,
   "metadata": {},
   "outputs": [],
   "source": [
    "# profile = ProfileReport(df, title=\"Pandas Profiling Report\")\n",
    "# profile.to_file(output_file=\"production_solar_profiling_report.html\") # report wordt opgeslagen als html file."
   ]
  },
  {
   "cell_type": "markdown",
   "metadata": {},
   "source": [
    "#### Controleren op Null waardes"
   ]
  },
  {
   "cell_type": "code",
   "execution_count": 5,
   "metadata": {},
   "outputs": [
    {
     "data": {
      "text/plain": [
       "datetime_start_utc                  0\n",
       "datetime_end_utc                    0\n",
       "datetime_start_nl                   0\n",
       "datetime_end_nl                     0\n",
       "datetime_start_ntz                  0\n",
       "provider                            0\n",
       "area_code                           0\n",
       "area_type                           0\n",
       "interval                            0\n",
       "energy_source                       0\n",
       "phase                               0\n",
       "production_mw                     192\n",
       "datetime_modification_utc      208025\n",
       "datetime_fetch                      0\n",
       "datetime_load_snowflake             0\n",
       "datetime_load_businessvault         0\n",
       "datetime_load_reporting             0\n",
       "dtype: int64"
      ]
     },
     "execution_count": 5,
     "metadata": {},
     "output_type": "execute_result"
    }
   ],
   "source": [
    "df.isnull().sum()"
   ]
  },
  {
   "cell_type": "code",
   "execution_count": 6,
   "metadata": {},
   "outputs": [],
   "source": [
    "df = df.drop(['datetime_start_nl', 'datetime_end_nl', 'datetime_start_ntz', 'area_type', 'energy_source'], axis=1)"
   ]
  },
  {
   "cell_type": "markdown",
   "metadata": {},
   "source": [
    "We halen de kolommen datetime_start_nl, datetime_end_nl en datetime_start_ntz uit de dataframe omdat deze overbodig zijn. Voor onze analyse gebruiken we de datetime_start_utc en datetime_end_utc kolommen. De kolommen area_type en energy_source halen we eruit omdat deze maar een mogelijke waarde bevatten en geen invloed hebben in ons onderzoek. "
   ]
  },
  {
   "cell_type": "code",
   "execution_count": 7,
   "metadata": {},
   "outputs": [],
   "source": [
    "df = df.dropna(axis=0, subset=['production_mw'])"
   ]
  },
  {
   "cell_type": "markdown",
   "metadata": {},
   "source": [
    "In 192 records is de production_mw niet inbegrepen. Gezien ons onderzoek zullen wij deze records verwijderen uit de dataset. Wij willen namelijk de production_mw tussen phase FC1 en A vergelijken. \n",
    "\n",
    "Ook valt op dat er 208025 records zonder datetime_modification_utc tussen zit. Bij een provider is niet altijd bekend wanneer zei precies de data voor de voorspelling leveren. In dat geval wordt de cel leeg gelaten. Echter voor onze deelvragen is dit geen probleem. Voor accuraatheid en betrouwbaarheid gebruiken we het niet. Bij snelheid worden de Null waardes niet meegenomen. "
   ]
  },
  {
   "cell_type": "markdown",
   "metadata": {},
   "source": [
    "# Data prepareren\n",
    "Per area_code maken we een dataframe aan. Als een area_code meerdere providers heeft, splitsen we die ook op in providers. Dit doen we omdat analyse willen doen per gebied en provider. "
   ]
  },
  {
   "cell_type": "code",
   "execution_count": 8,
   "metadata": {},
   "outputs": [],
   "source": [
    "df_solar_hu = df[df.area_code=='HU'].sort_values('datetime_start_utc')\n",
    "df_solar_nl = df[df.area_code=='NL'].sort_values('datetime_start_utc')\n",
    "df_solar_de = df[df.area_code=='DE'].sort_values('datetime_start_utc')\n",
    "df_solar_ro = df[df.area_code=='RO'].sort_values('datetime_start_utc')\n",
    "df_solar_dk2 = df[df.area_code=='DK2'].sort_values('datetime_start_utc')\n",
    "df_solar_dk1 = df[df.area_code=='DK1'].sort_values('datetime_start_utc')\n",
    "df_solar_gb = df[df.area_code=='GB'].sort_values('datetime_start_utc')\n",
    "df_solar_no2 = df[df.area_code=='NO2'].sort_values('datetime_start_utc')\n",
    "df_solar_no1 = df[df.area_code=='NO1'].sort_values('datetime_start_utc')\n",
    "df_solar_es = df[df.area_code=='ES'].sort_values('datetime_start_utc')\n",
    "df_solar_fi = df[df.area_code=='FI'].sort_values('datetime_start_utc')\n",
    "df_solar_pl = df[df.area_code=='PL'].sort_values('datetime_start_utc')\n",
    "df_solar_ch = df[df.area_code=='CH'].sort_values('datetime_start_utc')\n",
    "df_solar_sk = df[df.area_code=='SK'].sort_values('datetime_start_utc')\n",
    "df_solar_itcs = df[df.area_code=='IT-CS'].sort_values('datetime_start_utc')\n",
    "df_solar_itno = df[df.area_code=='IT-NO'].sort_values('datetime_start_utc')\n",
    "df_solar_cz = df[df.area_code=='CZ'].sort_values('datetime_start_utc')\n",
    "df_solar_si = df[df.area_code=='SI'].sort_values('datetime_start_utc')\n",
    "\n",
    "df_solar_be = df[df.area_code=='BE'].sort_values('datetime_start_utc')\n",
    "df_solar_be_elia = df_solar_be[df_solar_be.provider == 'ELIA'].sort_values('datetime_start_utc')\n",
    "df_solar_be_entsoeftp = df_solar_be[df_solar_be.provider == 'ENTSOE_FTP'].sort_values('datetime_start_utc')\n",
    "\n",
    "df_solar_at = df[df.area_code=='AT'].sort_values('datetime_start_utc')\n",
    "df_solar_at_entsoeftp = df_solar_at[df_solar_at.provider == 'ENTSOE_FTP'].sort_values('datetime_start_utc')\n",
    "df_solar_at_apg = df_solar_at[df_solar_at.provider == 'APG'].sort_values('datetime_start_utc')\n",
    "\n",
    "df_solar_fr = df[df.area_code=='FR'].sort_values('datetime_start_utc')\n",
    "df_solar_fr_rteeco2 = df_solar_fr[df_solar_fr.provider == 'RTE_ECO2'].sort_values('datetime_start_utc')\n",
    "df_solar_fr_entsoeftp = df_solar_fr[df_solar_fr.provider == 'ENTSOE_FTP'].sort_values('datetime_start_utc')\n",
    "df_solar_fr_rte = df_solar_fr[df_solar_fr.provider == 'RTE'].sort_values('datetime_start_utc')"
   ]
  },
  {
   "cell_type": "markdown",
   "metadata": {},
   "source": [
    "### Dataframes mergen\n",
    "Alle data is nu opgesplitst. We gaan elke dataframe nog een keer opsplitsen in twee verschillende dataframes op basis van 'phase' (FC1 & A). Eenmaal opgesplitst voegen (mergen) we ze weer bij elkaar op basis van 'datetime_start_utc'. Dit doen we zodat een record zowel de FC1 als A waarde bevat, waardoor we gemakkelijker berekeningen kunnen uitvoeren.  "
   ]
  },
  {
   "cell_type": "code",
   "execution_count": 9,
   "metadata": {},
   "outputs": [],
   "source": [
    "df_solar_hu_fc1 = df_solar_hu[df_solar_hu.phase == 'FC1']\n",
    "df_solar_hu_a = df_solar_hu[df_solar_hu.phase == 'A']\n",
    "df_solar_hu = df_solar_hu_a.merge(df_solar_hu_fc1, left_on=df_solar_hu_a['datetime_start_utc'], right_on=df_solar_hu_fc1['datetime_start_utc'])\n",
    "\n",
    "df_solar_nl_fc1 = df_solar_nl[df_solar_nl.phase == 'FC1']\n",
    "df_solar_nl_a = df_solar_nl[df_solar_nl.phase == 'A']\n",
    "df_solar_nl = df_solar_nl_a.merge(df_solar_nl_fc1, left_on=df_solar_nl_a['datetime_start_utc'], right_on=df_solar_nl_fc1['datetime_start_utc'])\n",
    "\n",
    "\n",
    "df_solar_de_fc1 = df_solar_de[df_solar_de.phase == 'FC1']\n",
    "df_solar_de_a = df_solar_de[df_solar_de.phase == 'A']\n",
    "df_solar_de = df_solar_de_a.merge(df_solar_de_fc1, left_on=df_solar_de_a['datetime_start_utc'], right_on=df_solar_de_fc1['datetime_start_utc'])\n",
    "\n",
    "df_solar_ro_fc1 = df_solar_ro[df_solar_ro.phase == 'FC1']\n",
    "df_solar_ro_a = df_solar_ro[df_solar_ro.phase == 'A']\n",
    "df_solar_ro = df_solar_ro_a.merge(df_solar_ro_fc1, left_on=df_solar_ro_a['datetime_start_utc'], right_on=df_solar_ro_fc1['datetime_start_utc'])\n",
    "\n",
    "df_solar_dk2_fc1 = df_solar_dk2[df_solar_dk2.phase == 'FC1']\n",
    "df_solar_dk2_a = df_solar_dk2[df_solar_dk2.phase == 'A']\n",
    "df_solar_dk2 = df_solar_dk2_a.merge(df_solar_dk2_fc1, left_on=df_solar_dk2_a['datetime_start_utc'], right_on=df_solar_dk2_fc1['datetime_start_utc'])\n",
    "\n",
    "df_solar_dk1_fc1 = df_solar_dk1[df_solar_dk1.phase == 'FC1']\n",
    "df_solar_dk1_a = df_solar_dk1[df_solar_dk1.phase == 'A']\n",
    "df_solar_dk1 = df_solar_dk1_a.merge(df_solar_dk1_fc1, left_on=df_solar_dk1_a['datetime_start_utc'], right_on=df_solar_dk1_fc1['datetime_start_utc'])\n",
    "\n",
    "df_solar_es_fc1 = df_solar_es[df_solar_es.phase == 'FC1']\n",
    "df_solar_es_a = df_solar_es[df_solar_es.phase == 'A']\n",
    "df_solar_es = df_solar_es_a.merge(df_solar_es_fc1, left_on=df_solar_es_a['datetime_start_utc'], right_on=df_solar_es_fc1['datetime_start_utc'])\n",
    "\n",
    "df_solar_pl_fc1 = df_solar_pl[df_solar_pl.phase == 'FC1']\n",
    "df_solar_pl_a = df_solar_pl[df_solar_pl.phase == 'A']\n",
    "df_solar_pl = df_solar_pl_a.merge(df_solar_pl_fc1, left_on=df_solar_pl_a['datetime_start_utc'], right_on=df_solar_pl_fc1['datetime_start_utc'])\n",
    "\n",
    "df_solar_ch_fc1 = df_solar_ch[df_solar_ch.phase == 'FC1']\n",
    "df_solar_ch_a = df_solar_ch[df_solar_ch.phase == 'A']\n",
    "df_solar_ch = df_solar_ch_a.merge(df_solar_ch_fc1, left_on=df_solar_ch_a['datetime_start_utc'], right_on=df_solar_ch_fc1['datetime_start_utc'])\n",
    "\n",
    "df_solar_sk_fc1 = df_solar_sk[df_solar_sk.phase == 'FC1']\n",
    "df_solar_sk_a = df_solar_sk[df_solar_sk.phase == 'A']\n",
    "df_solar_sk = df_solar_sk_a.merge(df_solar_sk_fc1, left_on=df_solar_sk_a['datetime_start_utc'], right_on=df_solar_sk_fc1['datetime_start_utc'])\n",
    "\n",
    "df_solar_itcs_fc1 = df_solar_itcs[df_solar_itcs.phase == 'FC1']\n",
    "df_solar_itcs_a = df_solar_itcs[df_solar_itcs.phase == 'A']\n",
    "df_solar_itcs = df_solar_itcs_a.merge(df_solar_itcs_fc1, left_on=df_solar_itcs_a['datetime_start_utc'], right_on=df_solar_itcs_fc1['datetime_start_utc'])\n",
    "\n",
    "df_solar_itno_fc1 = df_solar_itno[df_solar_itno.phase == 'FC1']\n",
    "df_solar_itno_a = df_solar_itno[df_solar_itno.phase == 'A']\n",
    "df_solar_itno = df_solar_itno_a.merge(df_solar_itno_fc1, left_on=df_solar_itno_a['datetime_start_utc'], right_on=df_solar_itno_fc1['datetime_start_utc'])\n",
    "\n",
    "df_solar_cz_fc1 = df_solar_cz[df_solar_cz.phase == 'FC1']\n",
    "df_solar_cz_a = df_solar_cz[df_solar_cz.phase == 'A']\n",
    "df_solar_cz = df_solar_cz_a.merge(df_solar_cz_fc1, left_on=df_solar_cz_a['datetime_start_utc'], right_on=df_solar_cz_fc1['datetime_start_utc'])\n",
    "\n",
    "df_solar_si_fc1 = df_solar_si[df_solar_si.phase == 'FC1']\n",
    "df_solar_si_a = df_solar_si[df_solar_si.phase == 'A']\n",
    "df_solar_si = df_solar_si_a.merge(df_solar_si_fc1, left_on=df_solar_si_a['datetime_start_utc'], right_on=df_solar_si_fc1['datetime_start_utc'])\n",
    "\n",
    "df_solar_be_elia_fc1 = df_solar_be_elia[df_solar_be_elia.phase == 'FC1']\n",
    "df_solar_be_elia_a = df_solar_be_elia[df_solar_be_elia.phase == 'A']\n",
    "df_solar_be_elia = df_solar_be_elia_a.merge(df_solar_be_elia_fc1, left_on=df_solar_be_elia_a['datetime_start_utc'], right_on=df_solar_be_elia_fc1['datetime_start_utc'])\n",
    "\n",
    "df_solar_be_entsoeftp_fc1 = df_solar_be_entsoeftp[df_solar_be_entsoeftp.phase == 'FC1']\n",
    "df_solar_be_entsoeftp_a = df_solar_be_entsoeftp[df_solar_be_entsoeftp.phase == 'A']\n",
    "df_solar_be_entsoeftp = df_solar_be_entsoeftp_a.merge(df_solar_be_entsoeftp_fc1, left_on=df_solar_be_entsoeftp_a['datetime_start_utc'], right_on=df_solar_be_entsoeftp_fc1['datetime_start_utc'])\n",
    "\n",
    "df_solar_at_entsoeftp_fc1 = df_solar_at_entsoeftp[df_solar_at_entsoeftp.phase == 'FC1']\n",
    "df_solar_at_entsoeftp_a = df_solar_at_entsoeftp[df_solar_at_entsoeftp.phase == 'A']\n",
    "df_solar_at_entsoeftp = df_solar_at_entsoeftp_a.merge(df_solar_at_entsoeftp_fc1, left_on=df_solar_at_entsoeftp_a['datetime_start_utc'], right_on=df_solar_at_entsoeftp_fc1['datetime_start_utc'])\n",
    "\n",
    "df_solar_at_apg_fc1 = df_solar_at_apg[df_solar_at_apg.phase == 'FC1']\n",
    "df_solar_at_apg_a = df_solar_at_apg[df_solar_at_apg.phase == 'A']\n",
    "df_solar_at_apg = df_solar_at_apg_a.merge(df_solar_at_apg_fc1, left_on=df_solar_at_apg_a['datetime_start_utc'], right_on=df_solar_at_apg_fc1['datetime_start_utc'])\n",
    "\n",
    "df_solar_fr_entsoeftp_fc1 = df_solar_fr_entsoeftp[df_solar_fr_entsoeftp.phase == 'FC1']\n",
    "df_solar_fr_entsoeftp_a = df_solar_fr_entsoeftp[df_solar_fr_entsoeftp.phase == 'A']\n",
    "df_solar_fr_entsoeftp = df_solar_fr_entsoeftp_a.merge(df_solar_fr_entsoeftp_fc1, left_on=df_solar_fr_entsoeftp_a['datetime_start_utc'], right_on=df_solar_fr_entsoeftp_fc1['datetime_start_utc'])\n",
    "\n",
    "df_solar_fr_rte_fc1 = df_solar_fr_rte[df_solar_fr_rte.phase == 'FC1']\n",
    "df_solar_fr_rte_a = df_solar_fr_rte[df_solar_fr_rte.phase == 'A']\n",
    "df_solar_fr_rte = df_solar_fr_rte_a.merge(df_solar_fr_rte_fc1, left_on=df_solar_fr_rte_a['datetime_start_utc'], right_on=df_solar_fr_rte_fc1['datetime_start_utc'])"
   ]
  },
  {
   "cell_type": "markdown",
   "metadata": {},
   "source": [
    "Het gebied GB heeft alleen maar records met Forecast data en geen Actual data. De uitkomst van de merge zou een lege tabel worden. We laten dit gebied buiten beschouwing aangezien ENTSOE_FTP de enige provider is die data levert voor het gebied GB. \n",
    "\n",
    "Verder hebben de gebieden NO2, NO1 en FI ook geen Actual data. Deze dataframes laten we ook buiten beschouwing. \n",
    "\n",
    "In de regio FR zijn er verschillende providers. Provider RTE_ECO2 levert ook geen Actual data. Voor deze provider in dit gebied laten we de data ook buiten beschouwing. "
   ]
  },
  {
   "cell_type": "markdown",
   "metadata": {},
   "source": [
    "###  Accuraatheid \n",
    "We berekenen de accuraatheid door de production_mw van de Forecast af te trekken met de production_mw van de Actual."
   ]
  },
  {
   "cell_type": "code",
   "execution_count": 10,
   "metadata": {},
   "outputs": [],
   "source": [
    "df_solar_hu['accuracy'] = df_solar_hu['production_mw_y'] - df_solar_hu['production_mw_x']\n",
    "df_solar_nl['accuracy'] = df_solar_nl['production_mw_y'] - df_solar_nl['production_mw_x']\n",
    "df_solar_de['accuracy'] = df_solar_de['production_mw_y'] - df_solar_de['production_mw_x']\n",
    "df_solar_ro['accuracy'] = df_solar_ro['production_mw_y'] - df_solar_ro['production_mw_x']\n",
    "df_solar_dk2['accuracy'] = df_solar_dk2['production_mw_y'] - df_solar_dk2['production_mw_x']\n",
    "df_solar_dk1['accuracy'] = df_solar_dk1['production_mw_y'] - df_solar_dk1['production_mw_x']\n",
    "df_solar_es['accuracy'] = df_solar_es['production_mw_y'] - df_solar_es['production_mw_x']\n",
    "df_solar_pl['accuracy'] = df_solar_pl['production_mw_y'] - df_solar_pl['production_mw_x']\n",
    "df_solar_ch['accuracy'] = df_solar_ch['production_mw_y'] - df_solar_ch['production_mw_x']\n",
    "df_solar_sk['accuracy'] = df_solar_sk['production_mw_y'] - df_solar_sk['production_mw_x']\n",
    "df_solar_itcs['accuracy'] = df_solar_itcs['production_mw_y'] - df_solar_itcs['production_mw_x']\n",
    "df_solar_itno['accuracy'] = df_solar_itno['production_mw_y'] - df_solar_itno['production_mw_x']\n",
    "df_solar_cz['accuracy'] = df_solar_cz['production_mw_y'] - df_solar_cz['production_mw_x']\n",
    "df_solar_si['accuracy'] = df_solar_si['production_mw_y'] - df_solar_si['production_mw_x']\n",
    "df_solar_be_elia['accuracy'] = df_solar_be_elia['production_mw_y'] - df_solar_be_elia['production_mw_x']\n",
    "df_solar_be_entsoeftp['accuracy'] = df_solar_be_entsoeftp['production_mw_y'] - df_solar_be_entsoeftp['production_mw_x']\n",
    "df_solar_at_entsoeftp['accuracy'] = df_solar_at_entsoeftp['production_mw_y'] - df_solar_at_entsoeftp['production_mw_x']\n",
    "df_solar_at_apg['accuracy'] = df_solar_at_apg['production_mw_y'] - df_solar_at_apg['production_mw_x']\n",
    "df_solar_fr_rte['accuracy'] = df_solar_fr_rte['production_mw_y'] - df_solar_fr_rte['production_mw_x']\n",
    "df_solar_fr_entsoeftp['accuracy'] = df_solar_fr_entsoeftp['production_mw_y'] - df_solar_fr_entsoeftp['production_mw_x']\n"
   ]
  },
  {
   "cell_type": "markdown",
   "metadata": {},
   "source": [
    "Dit zijn de gemiddeldes van de accuraatheid per areacode en provider. Deze gemiddeldes gebruiken we verder niet in het onderzoek."
   ]
  },
  {
   "cell_type": "code",
   "execution_count": 11,
   "metadata": {},
   "outputs": [],
   "source": [
    "gem_acc_hu = abs(df_solar_hu['accuracy']).mean()\n",
    "gem_acc_nl = abs(df_solar_nl['accuracy']).mean()\n",
    "gem_acc_de = abs(df_solar_de['accuracy']).mean()\n",
    "gem_acc_ro = abs(df_solar_ro['accuracy']).mean()\n",
    "gem_acc_dk2 = abs(df_solar_dk2['accuracy']).mean()\n",
    "gem_acc_dk1 = abs(df_solar_dk1['accuracy']).mean()\n",
    "gem_acc_es = abs(df_solar_es['accuracy']).mean()\n",
    "gem_acc_pl = abs(df_solar_pl['accuracy']).mean()\n",
    "gem_acc_ch = abs(df_solar_ch['accuracy']).mean()\n",
    "gem_acc_sk = abs(df_solar_sk['accuracy']).mean()\n",
    "gem_acc_itcs = abs(df_solar_itcs['accuracy']).mean()\n",
    "gem_acc_itno = abs(df_solar_itno['accuracy']).mean()\n",
    "gem_acc_cz = abs(df_solar_cz['accuracy']).mean()\n",
    "gem_acc_si = abs(df_solar_si['accuracy']).mean()\n",
    "gem_acc_be_elia = abs(df_solar_be_elia['accuracy']).mean()\n",
    "gem_acc_be_entsoeftp = abs(df_solar_be_entsoeftp['accuracy']).mean()\n",
    "gem_acc_at_entsoeftp = abs(df_solar_at_entsoeftp['accuracy']).mean()\n",
    "gem_acc_at_apg = abs(df_solar_at_apg['accuracy']).mean()\n",
    "gem_acc_fr_entsoeftp = abs(df_solar_fr_entsoeftp['accuracy']).mean()\n",
    "gem_acc_fr_rte = abs(df_solar_fr_rte['accuracy']).mean()"
   ]
  },
  {
   "cell_type": "code",
   "execution_count": 12,
   "metadata": {},
   "outputs": [
    {
     "name": "stdout",
     "output_type": "stream",
     "text": [
      "gem_acc_hu : 28.157512787235664\n",
      "gem_acc_nl : 750.7983503580537\n",
      "gem_acc_de : 376.5452130850033\n",
      "gem_acc_ro : 36.63570847818773\n",
      "gem_acc_dk2 : 10.458119432327825\n",
      "gem_acc_dk1 : 21.368465709532316\n",
      "gem_acc_es : 216.4998656242365\n",
      "gem_acc_pl : 96.9901710319164\n",
      "gem_acc_ch : 251.01176211453745\n",
      "gem_acc_sk : 18.10932867818204\n",
      "gem_acc_itcs : 65.422410911279\n",
      "gem_acc_itno : 110.35254395935014\n",
      "gem_acc_cz : 26.543488670371957\n",
      "gem_acc_si : 2.231537941212643\n",
      "gem_acc_be_elia : 77.61333058809176\n",
      "gem_acc_be_entsoeftp : 72.76242289134551\n",
      "gem_acc_at_apg : 134.19325842696628\n",
      "gem_acc_at_entsoeftp : 106.79447871495755\n",
      "gem_acc_fr_rte : 415.07639791937584\n",
      "gem_acc_fr_entsoeftp : 415.11835263516446\n"
     ]
    }
   ],
   "source": [
    "lijst_gemiddelde_accuraatheid = [gem_acc_hu,gem_acc_nl,gem_acc_de,gem_acc_ro,gem_acc_dk2,gem_acc_dk1,gem_acc_es,gem_acc_pl,gem_acc_ch,gem_acc_sk,gem_acc_itcs,gem_acc_itno,gem_acc_cz,gem_acc_si,gem_acc_be_elia,gem_acc_be_entsoeftp,gem_acc_at_apg,gem_acc_at_entsoeftp,gem_acc_fr_rte,gem_acc_fr_entsoeftp]\n",
    "lijst_gemiddelde_accuraatheid_namen = ['gem_acc_hu', 'gem_acc_nl', 'gem_acc_de', 'gem_acc_ro', 'gem_acc_dk2', 'gem_acc_dk1', 'gem_acc_es', 'gem_acc_pl', 'gem_acc_ch','gem_acc_sk','gem_acc_itcs','gem_acc_itno','gem_acc_cz','gem_acc_si','gem_acc_be_elia','gem_acc_be_entsoeftp','gem_acc_at_apg','gem_acc_at_entsoeftp','gem_acc_fr_rte','gem_acc_fr_entsoeftp']\n",
    "res = \"\\n\".join(\"{} : {}\".format(naam, waarde) for naam, waarde in zip(lijst_gemiddelde_accuraatheid_namen, lijst_gemiddelde_accuraatheid))\n",
    "print(res)"
   ]
  },
  {
   "cell_type": "markdown",
   "metadata": {},
   "source": [
    "Met het VWMAPE berekenen we de accuraahteid per area_code en provider door het totale absolute verschil tussen de FC1 en A te delen door het totale A."
   ]
  },
  {
   "cell_type": "code",
   "execution_count": 16,
   "metadata": {},
   "outputs": [],
   "source": [
    "hu_accuracy_per = sum(abs(df_solar_hu['accuracy'])) / sum(df_solar_hu['production_mw_x']) * 100\n",
    "nl_accuracy_per = sum(abs(df_solar_nl['accuracy'])) / sum(df_solar_nl['production_mw_x']) * 100\n",
    "de_accuracy_per = sum(abs(df_solar_de['accuracy'])) / sum(df_solar_de['production_mw_x']) * 100\n",
    "ro_accuracy_per = sum(abs(df_solar_ro['accuracy'])) / sum(df_solar_ro['production_mw_x']) * 100\n",
    "dk2_accuracy_per = sum(abs(df_solar_dk2['accuracy'])) / sum(df_solar_dk2['production_mw_x']) * 100\n",
    "dk1_accuracy_per = sum(abs(df_solar_dk1['accuracy'])) / sum(df_solar_dk1['production_mw_x']) * 100\n",
    "es_accuracy_per = sum(abs(df_solar_es['accuracy'])) / sum(df_solar_es['production_mw_x']) * 100\n",
    "pl_accuracy_per = sum(abs(df_solar_pl['accuracy'])) / sum(df_solar_pl['production_mw_x']) * 100\n",
    "ch_accuracy_per = sum(abs(df_solar_ch['accuracy'])) / sum(df_solar_ch['production_mw_x']) * 100\n",
    "sk_accuracy_per = sum(abs(df_solar_sk['accuracy'])) / sum(df_solar_sk['production_mw_x']) * 100\n",
    "itcs_accuracy_per = sum(abs(df_solar_itcs['accuracy'])) / sum(df_solar_itcs['production_mw_x']) * 100\n",
    "itno_accuracy_per = sum(abs(df_solar_itno['accuracy'])) / sum(df_solar_itno['production_mw_x']) * 100\n",
    "cz_accuracy_per = sum(abs(df_solar_cz['accuracy'])) / sum(df_solar_cz['production_mw_x']) * 100\n",
    "si_accuracy_per = sum(abs(df_solar_si['accuracy'])) / sum(df_solar_si['production_mw_x']) * 100\n",
    "be_elia_accuracy_per = sum(abs(df_solar_be_elia['accuracy'])) / sum(df_solar_be_elia['production_mw_x']) * 100\n",
    "be_entsoeftp_accuracy_per = sum(abs(df_solar_be_entsoeftp['accuracy'])) / sum(df_solar_be_entsoeftp['production_mw_x']) * 100\n",
    "at_apg_accuracy_per = sum(abs(df_solar_at_apg['accuracy'])) / sum(df_solar_at_apg['production_mw_x']) * 100\n",
    "at_entsoeftp_accuracy_per = sum(abs(df_solar_at_entsoeftp['accuracy'])) / sum(df_solar_at_entsoeftp['production_mw_x']) * 100\n",
    "fr_entsoeftp_accuracy_per = sum(abs(df_solar_fr_entsoeftp['accuracy'])) / sum(df_solar_fr_entsoeftp['production_mw_x']) * 100\n",
    "fr_rte_accuracy_per = sum(abs(df_solar_fr_rte['accuracy'])) / sum(df_solar_fr_rte['production_mw_x']) * 100\n"
   ]
  },
  {
   "cell_type": "markdown",
   "metadata": {},
   "source": [
    "## Samengevoegde dataframe\n",
    "Om in PowerBI te laden. Onnodige kolommen worden verwijderd om voor minder laadtijd te zorgen. "
   ]
  },
  {
   "cell_type": "code",
   "execution_count": 17,
   "metadata": {},
   "outputs": [],
   "source": [
    "df_samengevoegd = pd.concat([df_solar_hu, df_solar_nl, df_solar_de, df_solar_ro, df_solar_dk2, df_solar_dk1, df_solar_es, df_solar_pl, df_solar_ch, df_solar_sk, df_solar_itcs, df_solar_itno, df_solar_cz, df_solar_si, df_solar_be_elia, df_solar_be_entsoeftp, df_solar_at_entsoeftp, df_solar_at_apg, df_solar_fr_rte, df_solar_fr_entsoeftp])"
   ]
  },
  {
   "cell_type": "code",
   "execution_count": 19,
   "metadata": {},
   "outputs": [],
   "source": [
    "df_samengevoegd = df_samengevoegd.drop(['key_0', \n",
    "                                        'datetime_start_utc_y', \n",
    "                                        'datetime_end_utc_y', \n",
    "                                        'provider_y', \n",
    "                                        'area_code_y', \n",
    "                                        'interval_y', \n",
    "                                        'phase_y',], axis=1)"
   ]
  },
  {
   "cell_type": "markdown",
   "metadata": {},
   "source": [
    "# Betrouwbaarheid\n",
    "De betrouwbaarheid berekenen we door het totaal aantal keer dat een actual/forecast voorspeld had moeten zijn (laatste dag - eerste dag). Dit wordt gedeeld door de daadwerkelijke hoeveelheid actual/forecast die de provider heeft gegeven, * 100%. "
   ]
  },
  {
   "cell_type": "code",
   "execution_count": 20,
   "metadata": {},
   "outputs": [],
   "source": [
    "# hu: interval = 15\n",
    "hu_verschil = (df_solar_hu['datetime_start_utc_x'].iloc[-1]) - (df_solar_hu['datetime_start_utc_x'].iloc[-0])\n",
    "hu_uren = hu_verschil.days*24 + hu_verschil.seconds/3600\n",
    "hu_kwartiertjes = hu_uren*4\n",
    "hu_rijen = len(df_solar_hu)\n",
    "hu_betrouwbaarheid = (hu_rijen / hu_kwartiertjes)*100\n",
    "\n",
    "# nl: interval = 15\n",
    "nl_verschil = (df_solar_nl['datetime_start_utc_x'].iloc[-1]) - (df_solar_nl['datetime_start_utc_x'].iloc[-0])\n",
    "nl_uren = nl_verschil.days*24 + nl_verschil.seconds/3600\n",
    "nl_kwartiertjes = nl_uren*4\n",
    "nl_rijen = len(df_solar_nl)\n",
    "nl_betrouwbaarheid = (nl_rijen / nl_kwartiertjes)*100\n",
    "\n",
    "# de: interval = 15\n",
    "de_verschil = (df_solar_de['datetime_start_utc_x'].iloc[-1]) - (df_solar_de['datetime_start_utc_x'].iloc[-0])\n",
    "de_uren = de_verschil.days*24 + de_verschil.seconds/3600\n",
    "de_kwartiertjes = de_uren*4\n",
    "de_rijen = len(df_solar_de)\n",
    "de_betrouwbaarheid = (de_rijen / de_kwartiertjes)*100\n",
    "\n",
    "# ro: interval 15=26141, 60=9527\n",
    "ro_verschil = (df_solar_ro['datetime_start_utc_x'].iloc[-1]) - (df_solar_ro['datetime_start_utc_x'].iloc[0])\n",
    "ro_uren = ro_verschil.days*24 + ro_verschil.seconds/3600\n",
    "ro_kwartiertjes = ro_uren*4\n",
    "ro_rijen = 26141 + (9527*4)\n",
    "ro_betrouwbaarheid = (ro_rijen/ro_kwartiertjes)*100\n",
    "\n",
    "# dk1 interval=60\n",
    "dk1_verschil = (df_solar_dk1['datetime_start_utc_x'].iloc[-1]) - (df_solar_dk1['datetime_start_utc_x'].iloc[0])\n",
    "dk1_uren = dk1_verschil.days*24 + dk1_verschil.seconds/3600\n",
    "dk1_rijen = len(df_solar_dk1)\n",
    "dk1_betrouwbaarheid = (dk1_rijen / dk1_uren)*100\n",
    "\n",
    "#dk2 interval=60\n",
    "dk2_verschil = (df_solar_dk2['datetime_start_utc_x'].iloc[-1]) - (df_solar_dk2['datetime_start_utc_x'].iloc[0])\n",
    "dk2_uren = dk2_verschil.days*24 + dk2_verschil.seconds/3600\n",
    "dk2_rijen = len(df_solar_dk2)\n",
    "dk2_betrouwbaarheid = (dk2_rijen / dk2_uren)*100\n",
    "\n",
    "# es interval=60\n",
    "es_verschil = (df_solar_es['datetime_start_utc_x'].iloc[-1]) - (df_solar_es['datetime_start_utc_x'].iloc[0])\n",
    "es_uren = es_verschil.days*24 + es_verschil.seconds/3600\n",
    "es_rijen = len(df_solar_es)\n",
    "es_betrouwbaarheid = (es_rijen / es_uren)*100\n",
    "\n",
    "# pl interval=60\n",
    "pl_verschil = (df_solar_pl['datetime_start_utc_x'].iloc[-1]) - (df_solar_pl['datetime_start_utc_x'].iloc[0])\n",
    "pl_uren = pl_verschil.days*24 + pl_verschil.seconds/3600\n",
    "pl_rijen = len(df_solar_pl)\n",
    "pl_betrouwbaarheid = (pl_rijen / pl_uren)*100\n",
    "\n",
    "# ch interval=60\n",
    "ch_verschil = (df_solar_ch['datetime_start_utc_x'].iloc[-1]) - (df_solar_ch['datetime_start_utc_x'].iloc[0])\n",
    "ch_uren = ch_verschil.days*24 + ch_verschil.seconds/3600\n",
    "ch_rijen = len(df_solar_ch)\n",
    "ch_betrouwbaarheid = (ch_rijen / ch_uren)*100\n",
    "\n",
    "# sk interval=60\n",
    "sk_verschil = (df_solar_sk['datetime_start_utc_x'].iloc[-1]) - (df_solar_sk['datetime_start_utc_x'].iloc[0])\n",
    "sk_uren = sk_verschil.days*24 + sk_verschil.seconds/3600\n",
    "sk_rijen = len(df_solar_sk)\n",
    "sk_betrouwbaarheid = (sk_rijen / sk_uren)*100\n",
    "\n",
    "# itcs interval=60\n",
    "itcs_verschil = (df_solar_itcs['datetime_start_utc_x'].iloc[-1]) - (df_solar_itcs['datetime_start_utc_x'].iloc[0])\n",
    "itcs_uren = itcs_verschil.days*24 + itcs_verschil.seconds/3600\n",
    "itcs_rijen = len(df_solar_itcs)\n",
    "itcs_betrouwbaarheid = (itcs_rijen / itcs_uren)*100\n",
    "\n",
    "# itno interval=60\n",
    "itno_verschil = (df_solar_itno['datetime_start_utc_x'].iloc[-1]) - (df_solar_itno['datetime_start_utc_x'].iloc[0])\n",
    "itno_uren = itno_verschil.days*24 + itno_verschil.seconds/3600\n",
    "itno_rijen = len(df_solar_itno)\n",
    "itno_betrouwbaarheid = (itno_rijen / itno_uren)*100\n",
    "\n",
    "# cz interval=60\n",
    "cz_verschil = (df_solar_cz['datetime_start_utc_x'].iloc[-1]) - (df_solar_cz['datetime_start_utc_x'].iloc[0])\n",
    "cz_uren = cz_verschil.days*24 + cz_verschil.seconds/3600\n",
    "cz_rijen = len(df_solar_cz)\n",
    "cz_betrouwbaarheid = (cz_rijen / cz_uren)*100\n",
    "\n",
    "# si interval=60\n",
    "si_verschil = (df_solar_si['datetime_start_utc_x'].iloc[-1]) - (df_solar_si['datetime_start_utc_x'].iloc[0])\n",
    "si_uren = si_verschil.days*24 + si_verschil.seconds/3600\n",
    "si_rijen = len(df_solar_si)\n",
    "si_betrouwbaarheid = (si_rijen / si_uren)*100\n",
    "\n",
    "# be elia interval=15\n",
    "be_elia_verschil = (df_solar_be_elia['datetime_start_utc_x'].iloc[-1]) - (df_solar_be_elia['datetime_start_utc_x'].iloc[-0])\n",
    "be_elia_uren = be_elia_verschil.days*24 + be_elia_verschil.seconds/3600\n",
    "be_elia_kwartiertjes = be_elia_uren*4\n",
    "be_elia_rijen = len(df_solar_be_elia)\n",
    "be_elia_betrouwbaarheid = (be_elia_rijen / be_elia_kwartiertjes)*100\n",
    "\n",
    "# be entsoeftp interval=60\n",
    "be_entsoeftp_verschil = (df_solar_be_entsoeftp['datetime_start_utc_x'].iloc[-1]) - (df_solar_be_entsoeftp['datetime_start_utc_x'].iloc[0])\n",
    "be_entsoeftp_uren = be_entsoeftp_verschil.days*24 + be_entsoeftp_verschil.seconds/3600\n",
    "be_entsoeftp_rijen = len(df_solar_be_entsoeftp)\n",
    "be_entsoeftp_betrouwbaarheid = (be_entsoeftp_rijen / be_entsoeftp_uren)*100\n",
    "\n",
    "# at apg interval=15\n",
    "at_apg_verschil = (df_solar_at_apg['datetime_start_utc_x'].iloc[-1]) - (df_solar_at_apg['datetime_start_utc_x'].iloc[-0])\n",
    "at_apg_uren = at_apg_verschil.days*24 + at_apg_verschil.seconds/3600\n",
    "at_apg_kwartiertjes = at_apg_uren*4\n",
    "at_apg_rijen = len(df_solar_at_apg)\n",
    "at_apg_betrouwbaarheid = (at_apg_rijen / at_apg_kwartiertjes)*100\n",
    "\n",
    "# at entsoeftp interval=15\n",
    "at_entsoeftp_verschil = (df_solar_at_entsoeftp['datetime_start_utc_x'].iloc[-1]) - (df_solar_at_entsoeftp['datetime_start_utc_x'].iloc[-0])\n",
    "at_entsoeftp_uren = at_entsoeftp_verschil.days*24 + at_entsoeftp_verschil.seconds/3600\n",
    "at_entsoeftp_kwartiertjes = at_entsoeftp_uren*4\n",
    "at_entsoeftp_rijen = len(df_solar_at_entsoeftp)\n",
    "at_entsoeftp_betrouwbaarheid = (at_entsoeftp_rijen / at_entsoeftp_kwartiertjes)*100\n",
    "\n",
    "# fr rte interval=60\n",
    "fr_rte_verschil = (df_solar_fr_rte['datetime_start_utc_x'].iloc[-1]) - (df_solar_fr_rte['datetime_start_utc_x'].iloc[0])\n",
    "fr_rte_uren = fr_rte_verschil.days*24 + fr_rte_verschil.seconds/3600\n",
    "fr_rte_rijen = len(df_solar_fr_rte)\n",
    "fr_rte_betrouwbaarheid = (fr_rte_rijen / fr_rte_uren)*100\n",
    "\n",
    "#fr entsoeftp interval=60\n",
    "fr_entsoeftp_verschil = (df_solar_fr_entsoeftp['datetime_start_utc_x'].iloc[-1]) - (df_solar_fr_entsoeftp['datetime_start_utc_x'].iloc[0])\n",
    "fr_entsoeftp_uren = fr_entsoeftp_verschil.days*24 + fr_entsoeftp_verschil.seconds/3600\n",
    "fr_entsoeftp_rijen = len(df_solar_fr_entsoeftp)\n",
    "fr_entsoeftp_betrouwbaarheid = (fr_entsoeftp_rijen / fr_entsoeftp_uren)*100"
   ]
  },
  {
   "cell_type": "code",
   "execution_count": 21,
   "metadata": {},
   "outputs": [],
   "source": [
    "x = [\n",
    "    hu_betrouwbaarheid,\n",
    "    nl_betrouwbaarheid,\n",
    "    de_betrouwbaarheid,\n",
    "    ro_betrouwbaarheid,\n",
    "    dk1_betrouwbaarheid,\n",
    "    dk2_betrouwbaarheid,\n",
    "    es_betrouwbaarheid,\n",
    "    pl_betrouwbaarheid,\n",
    "    ch_betrouwbaarheid,\n",
    "    sk_betrouwbaarheid,\n",
    "    itcs_betrouwbaarheid,\n",
    "    itno_betrouwbaarheid,\n",
    "    cz_betrouwbaarheid,\n",
    "    si_betrouwbaarheid,\n",
    "    be_elia_betrouwbaarheid,\n",
    "    be_entsoeftp_betrouwbaarheid,\n",
    "    fr_rte_betrouwbaarheid,\n",
    "    fr_entsoeftp_betrouwbaarheid,\n",
    "    at_entsoeftp_betrouwbaarheid,\n",
    "    at_apg_betrouwbaarheid\n",
    "]"
   ]
  },
  {
   "cell_type": "markdown",
   "metadata": {},
   "source": [
    "## Snelheid\n",
    "De snelheid berekenen we door het verschil tussen datetime_start_utc en datetime_modification_utc te nemen. We willen weten hoe snel de forecast is, waardoor we niet kijken naar de records met A als phase. De datetime_modification_utc zou eerder dan de datetime_start_utc moeten zijn, echter zien wij dat het in veel gevallen niet zo is. Deze records nemen we niet mee in het onderzoek. "
   ]
  },
  {
   "cell_type": "code",
   "execution_count": 22,
   "metadata": {},
   "outputs": [],
   "source": [
    "df['Difference'] = (df['datetime_start_utc'] - df['datetime_modification_utc']).dt.total_seconds()"
   ]
  },
  {
   "cell_type": "code",
   "execution_count": 36,
   "metadata": {},
   "outputs": [],
   "source": [
    "df_difference = df[df.Difference > 0]\n",
    "df_difference = df_difference[df_difference.phase == 'FC1']\n",
    "difference = df_difference.groupby('provider')"
   ]
  },
  {
   "cell_type": "code",
   "execution_count": 25,
   "metadata": {},
   "outputs": [],
   "source": [
    "df_difference_fr = df_difference[df_difference.area_code== 'FR']\n",
    "difference_fr = df_difference_fr.groupby('provider')"
   ]
  },
  {
   "cell_type": "code",
   "execution_count": 29,
   "metadata": {},
   "outputs": [],
   "source": [
    "lijst_accuraatheid_per = [\n",
    "    hu_accuracy_per,\n",
    "    nl_accuracy_per,\n",
    "    de_accuracy_per,\n",
    "    ro_accuracy_per,\n",
    "    dk2_accuracy_per,\n",
    "    dk1_accuracy_per,\n",
    "    es_accuracy_per,\n",
    "    pl_accuracy_per,\n",
    "    ch_accuracy_per,\n",
    "    sk_accuracy_per,\n",
    "    itcs_accuracy_per,\n",
    "    itno_accuracy_per,\n",
    "    cz_accuracy_per,\n",
    "    si_accuracy_per,\n",
    "    be_elia_accuracy_per,\n",
    "    be_entsoeftp_accuracy_per,   \n",
    "    fr_rte_accuracy_per,\n",
    "    fr_entsoeftp_accuracy_per,\n",
    "    at_entsoeftp_accuracy_per,\n",
    "    at_apg_accuracy_per\n",
    "]"
   ]
  },
  {
   "cell_type": "code",
   "execution_count": 30,
   "metadata": {},
   "outputs": [],
   "source": [
    "lijst_landen = [\n",
    "    'hu',\n",
    "    'nl',\n",
    "    'de',\n",
    "    'ro',\n",
    "    'dk2',\n",
    "    'dk1',\n",
    "    'es',\n",
    "    'pl',\n",
    "    'ch',\n",
    "    'sk',\n",
    "    'itcs',\n",
    "    'itno',\n",
    "    'cz',\n",
    "    'si',\n",
    "    'be',\n",
    "    'be',\n",
    "    'fr',\n",
    "    'fr',\n",
    "    'at',\n",
    "    'at'\n",
    "]"
   ]
  },
  {
   "cell_type": "code",
   "execution_count": 31,
   "metadata": {},
   "outputs": [],
   "source": [
    "lijst_provider = [\n",
    "    'ENTSOE_FTP',\n",
    "    'ENTSOE_FTP',\n",
    "    'ENTSOE_FTP',\n",
    "    'ENTSOE_FTP',\n",
    "    'ENTSOE_FTP',\n",
    "    'ENTSOE_FTP',\n",
    "    'ENTSOE_FTP',\n",
    "    'ENTSOE_FTP',\n",
    "    'ENTSOE_FTP',\n",
    "    'ENTSOE_FTP',\n",
    "    'ENTSOE_FTP',\n",
    "    'ENTSOE_FTP',\n",
    "    'ENTSOE_FTP',\n",
    "    'ENTSOE_FTP',\n",
    "    'ELIA',\n",
    "    'ENTSOE_FTP',\n",
    "    'RTE',\n",
    "    'ENTSOE_FTP',\n",
    "    'ENTSOE_FTP',\n",
    "    'APG'\n",
    "]"
   ]
  },
  {
   "cell_type": "code",
   "execution_count": 32,
   "metadata": {},
   "outputs": [],
   "source": [
    "dfScores = pd.DataFrame(lijst_landen, columns =['area_code'])\n",
    "dfScores['provider'] = pd.DataFrame(lijst_provider)\n",
    "dfScores['reliability'] = pd.DataFrame(x)\n",
    "dfScores['accuracy'] = pd.DataFrame(lijst_accuraatheid_per)"
   ]
  }
 ],
 "metadata": {
  "kernelspec": {
   "display_name": "Python 3 (ipykernel)",
   "language": "python",
   "name": "python3"
  },
  "language_info": {
   "codemirror_mode": {
    "name": "ipython",
    "version": 3
   },
   "file_extension": ".py",
   "mimetype": "text/x-python",
   "name": "python",
   "nbconvert_exporter": "python",
   "pygments_lexer": "ipython3",
   "version": "3.8.0"
  }
 },
 "nbformat": 4,
 "nbformat_minor": 1
}